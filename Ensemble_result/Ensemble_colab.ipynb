{
  "nbformat": 4,
  "nbformat_minor": 0,
  "metadata": {
    "colab": {
      "provenance": [],
      "authorship_tag": "ABX9TyPGzFi5wICjnhdvTUy7cXbd",
      "include_colab_link": true
    },
    "kernelspec": {
      "name": "python3",
      "display_name": "Python 3"
    },
    "language_info": {
      "name": "python"
    }
  },
  "cells": [
    {
      "cell_type": "markdown",
      "metadata": {
        "id": "view-in-github",
        "colab_type": "text"
      },
      "source": [
        "<a href=\"https://colab.research.google.com/github/sjin0911/25Miniproject1-Ensemble/blob/main/Ensemble_result/Ensemble_colab.ipynb\" target=\"_parent\"><img src=\"https://colab.research.google.com/assets/colab-badge.svg\" alt=\"Open In Colab\"/></a>"
      ]
    },
    {
      "cell_type": "code",
      "execution_count": null,
      "metadata": {
        "colab": {
          "base_uri": "https://localhost:8080/"
        },
        "id": "Z9qobWZwb4nG",
        "outputId": "3682ae9b-3ad0-4006-9281-f4bca048e110"
      },
      "outputs": [
        {
          "output_type": "stream",
          "name": "stdout",
          "text": [
            "Cloning into '/content/25Miniproject1-Ensemble'...\n",
            "remote: Enumerating objects: 228, done.\u001b[K\n",
            "remote: Counting objects: 100% (228/228), done.\u001b[K\n",
            "remote: Compressing objects: 100% (211/211), done.\u001b[K\n",
            "remote: Total 228 (delta 10), reused 112 (delta 7), pack-reused 0 (from 0)\u001b[K\n",
            "Receiving objects: 100% (228/228), 76.17 MiB | 27.09 MiB/s, done.\n",
            "Resolving deltas: 100% (10/10), done.\n",
            "/content/25Miniproject1-Ensemble\n",
            "On branch main\n",
            "Your branch is up to date with 'origin/main'.\n",
            "\n",
            "nothing to commit, working tree clean\n",
            "origin\thttps://github.com/sjin0911/25Miniproject1-Ensemble (fetch)\n",
            "origin\thttps://github.com/sjin0911/25Miniproject1-Ensemble (push)\n"
          ]
        }
      ],
      "source": [
        "REPO_URL=\"https://github.com/sjin0911/25Miniproject1-Ensemble\"\n",
        "WORKDIR=\"/content/25Miniproject1-Ensemble/\"\n",
        "!rm -rf \"$WORKDIR\"\n",
        "!git clone --depth 1 \"$REPO_URL\" \"$WORKDIR\"\n",
        "%cd \"$WORKDIR\"\n",
        "!git status\n",
        "!git remote -v"
      ]
    },
    {
      "cell_type": "code",
      "source": [
        "!python vote_ensemble.py \\\n",
        "  --model1 /content/25Miniproject1-Ensemble/MWFormer/result_L/D-211015_O9120F01_031_0033_mwformer.png \\\n",
        "  --model2 /content/25Miniproject1-Ensemble/MWFormer/result_real/D-211015_O9120F01_031_0033_mwformer.png \\\n",
        "  --gt     /content/25Miniproject1-Ensemble/MWFormer/GT/D-211015_O9120FGT_031_0001.jpg \\\n",
        "  --outdir /content/25Miniproject1-Ensemble/Ensemble_result \\\n",
        "  --smooth 5"
      ],
      "metadata": {
        "id": "QR-NsEJCcD-k",
        "colab": {
          "base_uri": "https://localhost:8080/"
        },
        "outputId": "0bb32558-4f3b-45c2-9a76-a3f45a3163af"
      },
      "execution_count": null,
      "outputs": [
        {
          "output_type": "stream",
          "name": "stdout",
          "text": [
            "[보팅 완료] PSNR=12.702 dB, SSIM=0.7427\n",
            " - 결과: /content/25Miniproject1-Ensemble/Ensemble_result/vote_result.png\n",
            " - 선택맵 시각화: /content/25Miniproject1-Ensemble/Ensemble_result/vote_mask_vis.png\n"
          ]
        }
      ]
    },
    {
      "cell_type": "code",
      "source": [
        "!python blend_ensemble.py \\\n",
        "  --model1 /content/25Miniproject1-Ensemble/MWFormer/result_L/D-211015_O9120F01_031_0033_mwformer.png \\\n",
        "  --model2 /content/25Miniproject1-Ensemble/MWFormer/result_real/D-211015_O9120F01_031_0033_mwformer.png \\\n",
        "  --gt     /content/25Miniproject1-Ensemble/MWFormer/GT/D-211015_O9120FGT_031_0001.jpg \\\n",
        "  --outdir /content/25Miniproject1-Ensemble/Ensemble_result \\\n",
        "  --epochs 500 \\\n",
        "  --patch_size 256 \\\n",
        "  --iters_per_epoch 50 \\\n",
        "  --lr 1e-3"
      ],
      "metadata": {
        "colab": {
          "base_uri": "https://localhost:8080/"
        },
        "id": "UJDtowyABH34",
        "outputId": "25ed4269-0339-44d0-cd53-23a8a9af58d8"
      },
      "execution_count": null,
      "outputs": [
        {
          "output_type": "stream",
          "name": "stdout",
          "text": [
            "[Ep 1] loss=0.279222\n",
            "[Ep 50] loss=0.218676\n",
            "[Ep 100] loss=0.226665\n",
            "[Ep 150] loss=0.220294\n",
            "[Ep 200] loss=0.204035\n",
            "[Ep 250] loss=0.209315\n",
            "[Ep 300] loss=0.209578\n",
            "[Ep 350] loss=0.208120\n",
            "[Ep 400] loss=0.201959\n",
            "[Ep 450] loss=0.214118\n",
            "[Ep 500] loss=0.201400\n",
            "[완료] PSNR=12.720 dB, SSIM=0.7444\n"
          ]
        }
      ]
    }
  ]
}