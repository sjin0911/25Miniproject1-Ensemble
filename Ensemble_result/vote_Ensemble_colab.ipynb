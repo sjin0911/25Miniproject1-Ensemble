{
  "nbformat": 4,
  "nbformat_minor": 0,
  "metadata": {
    "colab": {
      "provenance": [],
      "authorship_tag": "ABX9TyPqbHDHLSXc7fYRX3cJsczF",
      "include_colab_link": true
    },
    "kernelspec": {
      "name": "python3",
      "display_name": "Python 3"
    },
    "language_info": {
      "name": "python"
    }
  },
  "cells": [
    {
      "cell_type": "markdown",
      "metadata": {
        "id": "view-in-github",
        "colab_type": "text"
      },
      "source": [
        "<a href=\"https://colab.research.google.com/github/sjin0911/25Miniproject1-Ensemble/blob/main/Ensemble_result/vote_Ensemble_colab.ipynb\" target=\"_parent\"><img src=\"https://colab.research.google.com/assets/colab-badge.svg\" alt=\"Open In Colab\"/></a>"
      ]
    },
    {
      "cell_type": "code",
      "execution_count": 1,
      "metadata": {
        "colab": {
          "base_uri": "https://localhost:8080/"
        },
        "id": "Z9qobWZwb4nG",
        "outputId": "7309ca99-793c-4226-d172-bac5a6935a97"
      },
      "outputs": [
        {
          "output_type": "stream",
          "name": "stdout",
          "text": [
            "Cloning into '/content/25Miniproject1-Ensemble'...\n",
            "remote: Enumerating objects: 227, done.\u001b[K\n",
            "remote: Counting objects: 100% (227/227), done.\u001b[K\n",
            "remote: Compressing objects: 100% (208/208), done.\u001b[K\n",
            "remote: Total 227 (delta 10), reused 112 (delta 7), pack-reused 0 (from 0)\u001b[K\n",
            "Receiving objects: 100% (227/227), 76.17 MiB | 24.80 MiB/s, done.\n",
            "Resolving deltas: 100% (10/10), done.\n",
            "/content/25Miniproject1-Ensemble\n"
          ]
        }
      ],
      "source": [
        "REPO_URL=\"https://github.com/sjin0911/25Miniproject1-Ensemble\"\n",
        "WORKDIR=\"/content/25Miniproject1-Ensemble/\"\n",
        "\n",
        "!git clone --depth 1 \"$REPO_URL\" \"$WORKDIR\"\n",
        "%cd \"$WORKDIR\""
      ]
    },
    {
      "cell_type": "code",
      "source": [
        "!python vote_ensemble.py \\\n",
        "  --model1 /content/25Miniproject1-Ensemble/MWFormer/result_L/D-211015_O9120F01_031_0033_mwformer.png \\\n",
        "  --model2 /content/25Miniproject1-Ensemble/MWFormer/result_real/D-211015_O9120F01_031_0033_mwformer.png \\\n",
        "  --gt     /content/25Miniproject1-Ensemble/MWFormer/GT/D-211015_O9120FGT_031_0001.jpg \\\n",
        "  --outdir /content/25Miniproject1-Ensemble/Ensemble_result \\\n",
        "  --smooth 5"
      ],
      "metadata": {
        "id": "QR-NsEJCcD-k",
        "colab": {
          "base_uri": "https://localhost:8080/"
        },
        "outputId": "a936e603-f210-42ee-f49b-ec80f6f3ffee"
      },
      "execution_count": 2,
      "outputs": [
        {
          "output_type": "stream",
          "name": "stdout",
          "text": [
            "[보팅 완료] PSNR=12.702 dB, SSIM=0.7427\n",
            " - 결과: /content/25Miniproject1-Ensemble/Ensemble_result/vote_result.png\n",
            " - 선택맵 시각화: /content/25Miniproject1-Ensemble/Ensemble_result/vote_mask_vis.png\n"
          ]
        }
      ]
    }
  ]
}